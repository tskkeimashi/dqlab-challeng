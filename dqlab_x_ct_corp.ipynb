{
  "nbformat": 4,
  "nbformat_minor": 0,
  "metadata": {
    "colab": {
      "name": "dqlab x ct corp",
      "provenance": [],
      "authorship_tag": "ABX9TyNkV+IN9+EszbTWybjcizTm",
      "include_colab_link": true
    },
    "kernelspec": {
      "name": "python3",
      "display_name": "Python 3"
    }
  },
  "cells": [
    {
      "cell_type": "markdown",
      "metadata": {
        "id": "view-in-github",
        "colab_type": "text"
      },
      "source": [
        "<a href=\"https://colab.research.google.com/github/tskkeimashi/dqlab-challeng/blob/main/dqlab_x_ct_corp.ipynb\" target=\"_parent\"><img src=\"https://colab.research.google.com/assets/colab-badge.svg\" alt=\"Open In Colab\"/></a>"
      ]
    },
    {
      "cell_type": "code",
      "metadata": {
        "colab": {
          "base_uri": "https://localhost:8080/"
        },
        "id": "cM6tKr_S9SJM",
        "outputId": "065c9b41-4a7d-4565-a38a-4fa9daa965f2"
      },
      "source": [
        "#web scrapping\r\n",
        "import pandas as pd\r\n",
        "import requests\r\n",
        "from bs4 import BeautifulSoup\r\n",
        "\r\n",
        "#Request ke website\r\n",
        "website_url = requests.get('https://id.wikipedia.org/wiki/Demografi_Indonesia').text\r\n",
        "soup = BeautifulSoup(website_url, 'lxml')\r\n",
        "\r\n",
        "#Ambil table dengan class 'wikitable sortable'\r\n",
        "my_table = soup.find('table', {'class':'wikitable sortable'})\r\n",
        "\r\n",
        "#cari data dengan tag 'td'\r\n",
        "links = my_table.findAll('td')\r\n",
        "\r\n",
        "#Membuat lists kosong\r\n",
        "kode_bps = []\r\n",
        "nama = []\r\n",
        "ibu_kota = []\r\n",
        "populasi = []\r\n",
        "luas_km = []\r\n",
        "pulau = []\r\n",
        "#memasukkan data ke dalam list berdasarkan pola HTML\r\n",
        "for i, link in enumerate(links):\r\n",
        "    if i in range(0, len(links), 9):\r\n",
        "        kode_bps.append(link.get_text())\r\n",
        "    if i in range(2, len(links), 9):\r\n",
        "        nama.append(link.get_text())\r\n",
        "    if i in range(4, len(links), 9):\r\n",
        "        ibu_kota.append(link.get_text())\r\n",
        "    if i in range(5, len(links), 9):\r\n",
        "        populasi.append(link.get_text())\r\n",
        "    if i in range(6, len(links), 9):\r\n",
        "        luas_km.append(link.get_text())\r\n",
        "    if i in range(8, len(links), 9):\r\n",
        "        pulau.append(link.get_text()[:-1])\r\n",
        "\r\n",
        "#Membuat DatFrame\r\n",
        "df = pd.DataFrame()\r\n",
        "df['Kode BPS'] = kode_bps\r\n",
        "df['Nama'] = nama\r\n",
        "df['Ibu Kota'] = ibu_kota\r\n",
        "df['Populasi'] = populasi\r\n",
        "df['Luas km'] = luas_km\r\n",
        "df['Pulau'] = pulau\r\n",
        "\r\n",
        "print(df)\r\n",
        "#Perintah jika ingin dimasukkan kedalam file csv\r\n",
        "df.to_csv('Indonesia_Demography_by_Province.csv', index=False, encoding='utf-8', quoting=1)"
      ],
      "execution_count": 1,
      "outputs": [
        {
          "output_type": "stream",
          "text": [
            "   Kode BPS                           Nama  ...     Luas km          Pulau\n",
            "0        11                           Aceh  ...   56.500,51        Sumatra\n",
            "1        12                  Sumatra Utara  ...   72.427,81        Sumatra\n",
            "2        13                  Sumatra Barat  ...   42.224,65        Sumatra\n",
            "3        14                           Riau  ...   87.844,23        Sumatra\n",
            "4        15                          Jambi  ...   45.348,49        Sumatra\n",
            "5        16                Sumatra Selatan  ...   60.302,54        Sumatra\n",
            "6        17                       Bengkulu  ...   19.795,15        Sumatra\n",
            "7        18                        Lampung  ...   37.735,15        Sumatra\n",
            "8        19      Kepulauan Bangka Belitung  ...   16.424,14        Sumatra\n",
            "9        21                 Kepulauan Riau  ...    8.084,01        Sumatra\n",
            "10       31  Daerah Khusus Ibukota Jakarta  ...      740,29           Jawa\n",
            "11       32                     Jawa Barat  ...   36.925,05           Jawa\n",
            "12       33                    Jawa Tengah  ...   32.799,71           Jawa\n",
            "13       34     Daerah Istimewa Yogyakarta  ...    3.133,15           Jawa\n",
            "14       35                     Jawa Timur  ...   46.689,64           Jawa\n",
            "15       36                         Banten  ...    9.018,64           Jawa\n",
            "16       51                           Bali  ...    5.449,37  Nusa Tenggara\n",
            "17       52            Nusa Tenggara Barat  ...   19.708,79  Nusa Tenggara\n",
            "18       53            Nusa Tenggara Timur  ...   46.137,87  Nusa Tenggara\n",
            "19       61               Kalimantan Barat  ...  120.114,32     Kalimantan\n",
            "20       62              Kalimantan Tengah  ...  153.564,50     Kalimantan\n",
            "21       63             Kalimantan Selatan  ...   37.530,52     Kalimantan\n",
            "22       64               Kalimantan Timur  ...  194.849,08     Kalimantan\n",
            "23       65               Kalimantan Utara  ...   72.567,49     Kalimantan\n",
            "24       71                 Sulawesi Utara  ...   13.930,73       Sulawesi\n",
            "25       72                Sulawesi Tengah  ...   68.089,83       Sulawesi\n",
            "26       73               Sulawesi Selatan  ...   46.116,45       Sulawesi\n",
            "27       74              Sulawesi Tenggara  ...   36.757,45       Sulawesi\n",
            "28       75                      Gorontalo  ...   12.165,44       Sulawesi\n",
            "29       76                 Sulawesi Barat  ...   16.787,19       Sulawesi\n",
            "30       81                         Maluku  ...   47.350,42         Maluku\n",
            "31       82                   Maluku Utara  ...   39.959,99         Maluku\n",
            "32       91                    Papua Barat  ...  114.566,40          Papua\n",
            "33       94                          Papua  ...  309.934,40          Papua\n",
            "\n",
            "[34 rows x 6 columns]\n"
          ],
          "name": "stdout"
        }
      ]
    },
    {
      "cell_type": "code",
      "metadata": {
        "colab": {
          "base_uri": "https://localhost:8080/"
        },
        "id": "gFgJIXA_9tDa",
        "outputId": "ae326c42-5c45-4082-aad8-b10fb51670dc"
      },
      "source": [
        "#regex\r\n",
        "import re\r\n",
        "\r\n",
        "#function email_check\r\n",
        "def email_check(input):\r\n",
        "    match = re.search('(?=^((?!-).)*$)(?=[^0-9])((?=^((?!\\.\\d).)*$)|(?=.*_))',input)\r\n",
        "\r\n",
        "    if match:\r\n",
        "        print('Pass')\r\n",
        "    else:\r\n",
        "        print('Not Pass')\r\n",
        "\r\n",
        "#Masukkan daftar email ke dalam list\r\n",
        "emails = ['my-name@someemail.com', 'myname@someemail.com','my.name@someemail.com',\r\n",
        "'my.name2019@someemail.com', 'my.name.2019@someemail.com',\r\n",
        "'somename.201903@someemail.com','my_name.201903@someemail.com',\r\n",
        "'201903myname@someemail.com', '201903.myname@someemail.com']\r\n",
        "\r\n",
        "#Looping untuk pengecekan Pass atau Not Pass\r\n",
        "for email in emails :\r\n",
        "    email_check(email)"
      ],
      "execution_count": 2,
      "outputs": [
        {
          "output_type": "stream",
          "text": [
            "Not Pass\n",
            "Pass\n",
            "Pass\n",
            "Pass\n",
            "Not Pass\n",
            "Not Pass\n",
            "Pass\n",
            "Not Pass\n",
            "Not Pass\n"
          ],
          "name": "stdout"
        }
      ]
    }
  ]
}